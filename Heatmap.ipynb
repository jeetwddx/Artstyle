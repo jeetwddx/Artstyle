{
  "nbformat": 4,
  "nbformat_minor": 0,
  "metadata": {
    "colab": {
      "name": "Heatmap.ipynb",
      "provenance": [],
      "collapsed_sections": []
    },
    "kernelspec": {
      "name": "python3",
      "display_name": "Python 3"
    },
    "accelerator": "GPU"
  },
  "cells": [
    {
      "cell_type": "code",
      "metadata": {
        "id": "NLCHIFtReQDg"
      },
      "source": [
        "\n",
        "\n",
        "import matplotlib.pyplot as plt\n",
        "import numpy as np\n",
        "import random\n",
        "import os.path\n",
        "from keras import applications\n",
        "import tensorflow as tf\n",
        "from tensorflow import keras\n",
        "from tensorflow.keras.models import Sequential\n",
        "from tensorflow.keras.layers import Activation, Dense\n",
        "from tensorflow.keras.optimizers import Adam\n",
        "from tensorflow.keras.metrics import categorical_crossentropy\n",
        "from keras import backend as K\n",
        "from __future__ import print_function\n",
        "import numpy as np\n",
        "import time"
      ],
      "execution_count": 17,
      "outputs": []
    },
    {
      "cell_type": "code",
      "metadata": {
        "id": "iWH4uyk4ef2k",
        "outputId": "24860bd7-ab83-42ae-978a-8fc3ad6a453d",
        "colab": {
          "base_uri": "https://localhost:8080/",
          "height": 51
        }
      },
      "source": [
        "model = applications.VGG16(weights='imagenet', include_top=False)"
      ],
      "execution_count": 6,
      "outputs": [
        {
          "output_type": "stream",
          "text": [
            "Downloading data from https://storage.googleapis.com/tensorflow/keras-applications/vgg16/vgg16_weights_tf_dim_ordering_tf_kernels_notop.h5\n",
            "58892288/58889256 [==============================] - 0s 0us/step\n"
          ],
          "name": "stdout"
        }
      ]
    },
    {
      "cell_type": "code",
      "metadata": {
        "id": "ArUkrYuMf_A6",
        "outputId": "f8949440-f7b0-40d4-9b5c-2d318237f844",
        "colab": {
          "base_uri": "https://localhost:8080/",
          "height": 799
        }
      },
      "source": [
        "model.summary()"
      ],
      "execution_count": 7,
      "outputs": [
        {
          "output_type": "stream",
          "text": [
            "Model: \"vgg16\"\n",
            "_________________________________________________________________\n",
            "Layer (type)                 Output Shape              Param #   \n",
            "=================================================================\n",
            "input_1 (InputLayer)         [(None, None, None, 3)]   0         \n",
            "_________________________________________________________________\n",
            "block1_conv1 (Conv2D)        (None, None, None, 64)    1792      \n",
            "_________________________________________________________________\n",
            "block1_conv2 (Conv2D)        (None, None, None, 64)    36928     \n",
            "_________________________________________________________________\n",
            "block1_pool (MaxPooling2D)   (None, None, None, 64)    0         \n",
            "_________________________________________________________________\n",
            "block2_conv1 (Conv2D)        (None, None, None, 128)   73856     \n",
            "_________________________________________________________________\n",
            "block2_conv2 (Conv2D)        (None, None, None, 128)   147584    \n",
            "_________________________________________________________________\n",
            "block2_pool (MaxPooling2D)   (None, None, None, 128)   0         \n",
            "_________________________________________________________________\n",
            "block3_conv1 (Conv2D)        (None, None, None, 256)   295168    \n",
            "_________________________________________________________________\n",
            "block3_conv2 (Conv2D)        (None, None, None, 256)   590080    \n",
            "_________________________________________________________________\n",
            "block3_conv3 (Conv2D)        (None, None, None, 256)   590080    \n",
            "_________________________________________________________________\n",
            "block3_pool (MaxPooling2D)   (None, None, None, 256)   0         \n",
            "_________________________________________________________________\n",
            "block4_conv1 (Conv2D)        (None, None, None, 512)   1180160   \n",
            "_________________________________________________________________\n",
            "block4_conv2 (Conv2D)        (None, None, None, 512)   2359808   \n",
            "_________________________________________________________________\n",
            "block4_conv3 (Conv2D)        (None, None, None, 512)   2359808   \n",
            "_________________________________________________________________\n",
            "block4_pool (MaxPooling2D)   (None, None, None, 512)   0         \n",
            "_________________________________________________________________\n",
            "block5_conv1 (Conv2D)        (None, None, None, 512)   2359808   \n",
            "_________________________________________________________________\n",
            "block5_conv2 (Conv2D)        (None, None, None, 512)   2359808   \n",
            "_________________________________________________________________\n",
            "block5_conv3 (Conv2D)        (None, None, None, 512)   2359808   \n",
            "_________________________________________________________________\n",
            "block5_pool (MaxPooling2D)   (None, None, None, 512)   0         \n",
            "=================================================================\n",
            "Total params: 14,714,688\n",
            "Trainable params: 14,714,688\n",
            "Non-trainable params: 0\n",
            "_________________________________________________________________\n"
          ],
          "name": "stdout"
        }
      ]
    },
    {
      "cell_type": "code",
      "metadata": {
        "id": "RbxWEesokGM5"
      },
      "source": [
        "def normalize(x):\n",
        "    # utility function to normalize a tensor by its L2 norm\n",
        "    return x / (K.sqrt(K.mean(K.square(x))) + 1e-5)"
      ],
      "execution_count": 13,
      "outputs": []
    },
    {
      "cell_type": "code",
      "metadata": {
        "id": "TS3v8wBDkfW5"
      },
      "source": [
        "# util function to convert a tensor into a valid image\n",
        "def deprocess_image(x):\n",
        "    # normalize tensor: center on 0., ensure std is 0.1\n",
        "    x -= x.mean()\n",
        "    x /= (x.std() + 1e-5)\n",
        "    x *= 0.1\n",
        "\n",
        "    # clip to [0, 1]\n",
        "    x += 0.5\n",
        "    x = np.clip(x, 0, 1)\n",
        "\n",
        "    # convert to RGB array\n",
        "    x *= 255\n",
        "    if K.image_dim_ordering() == 'th':\n",
        "        x = x.transpose((1, 2, 0))\n",
        "    x = np.clip(x, 0, 255).astype('uint8')\n",
        "    return x"
      ],
      "execution_count": 14,
      "outputs": []
    },
    {
      "cell_type": "code",
      "metadata": {
        "id": "6s5LHf1ogECc"
      },
      "source": [
        "input_imag= model.input\n",
        "\n",
        "layer_dict = dict([(layer.name, layer) for layer in model.layers[1:]])"
      ],
      "execution_count": 8,
      "outputs": []
    },
    {
      "cell_type": "code",
      "metadata": {
        "id": "1YWvzlqhg9z1",
        "outputId": "dd896b4d-b9fd-427d-b1d7-6c011810b130",
        "colab": {
          "base_uri": "https://localhost:8080/",
          "height": 238
        }
      },
      "source": [
        "from keras.layers import  Conv2D\n",
        "conv_layers = []\n",
        "for layer in model.layers:\n",
        "  if isinstance(layer, Conv2D):\n",
        "    conv_layers.append(layer.name)\n",
        "conv_layers"
      ],
      "execution_count": 11,
      "outputs": [
        {
          "output_type": "execute_result",
          "data": {
            "text/plain": [
              "['block1_conv1',\n",
              " 'block1_conv2',\n",
              " 'block2_conv1',\n",
              " 'block2_conv2',\n",
              " 'block3_conv1',\n",
              " 'block3_conv2',\n",
              " 'block3_conv3',\n",
              " 'block4_conv1',\n",
              " 'block4_conv2',\n",
              " 'block4_conv3',\n",
              " 'block5_conv1',\n",
              " 'block5_conv2',\n",
              " 'block5_conv3']"
            ]
          },
          "metadata": {
            "tags": []
          },
          "execution_count": 11
        }
      ]
    },
    {
      "cell_type": "code",
      "metadata": {
        "id": "_5ac_NsslGyG"
      },
      "source": [
        "# dimensions of the generated pictures for each filter.\n",
        "img_width = 128\n",
        "img_height = 128\n",
        "\n",
        "# the name of the layer we want to visualize\n",
        "# (see model definition at keras/applications/vgg16.py)\n",
        "layer_name = 'block5_conv1'\n",
        "input_img = model.input"
      ],
      "execution_count": 23,
      "outputs": []
    },
    {
      "cell_type": "code",
      "metadata": {
        "id": "FK3QtakJjoqb"
      },
      "source": [
        "kept_filters = []\n",
        "for filter_index in range(0, 200):\n",
        "    # we only scan through the first 200 filters,\n",
        "    # but there are actually 512 of them\n",
        "  \n",
        "\n",
        "    # we build a loss function that maximizes the activation\n",
        "    # of the nth filter of the layer considered\n",
        "    layer_output = layer_dict[layer_name].output\n",
        "    if K.image_data_format() == 'channels_first':\n",
        "        loss = K.mean(layer_output[:, filter_index, :, :])\n",
        "    else:\n",
        "        loss = K.mean(layer_output[:, :, :, filter_index])\n",
        "\n",
        "    # we compute the gradient of the input picture wrt this loss\n",
        "  \n",
        "    grads = K.gradients(loss, input_img)[0]\n",
        "\n",
        "    # normalization trick: we normalize the gradient\n",
        "    grads = normalize(grads)\n",
        "\n",
        "    # this function returns the loss and grads given the input picture\n",
        "    iterate = K.function([input_img], [loss, grads])\n",
        "\n",
        "    # step size for gradient ascent\n",
        "    step = 1.\n",
        "\n",
        "    # we start from a gray image with some random noise\n",
        "    if K.image_data_format == 'channels_first':\n",
        "        input_img_data = np.random.random((1, 3, img_width, img_height))\n",
        "    else:\n",
        "        input_img_data = np.random.random((1, img_width, img_height, 3))\n",
        "    input_img_data = (input_img_data - 0.5) * 20 + 128\n",
        "\n",
        "    # we run gradient ascent for 20 steps\n",
        "    for i in range(20):\n",
        "        loss_value, grads_value = iterate([input_img_data])\n",
        "        input_img_data += grads_value * step\n",
        "\n",
        "        print('Current loss value:', loss_value)\n",
        "        if loss_value <= 0.:\n",
        "            # some filters get stuck to 0, we can skip them\n",
        "            break\n",
        "\n",
        "    # decode the resulting input image\n",
        "    if loss_value > 0:\n",
        "        img = deprocess_image(input_img_data[0])\n",
        "        kept_filters.append((img, loss_value))\n",
        "    end_time = time.time()\n",
        "    print('Filter %d processed in %ds' % (filter_index, end_time - start_time))\n",
        "\n",
        "# we will stich the best 64 filters on a 8 x 8 grid.\n",
        "n = 8\n",
        "\n",
        "# the filters that have the highest loss are assumed to be better-looking.\n",
        "# we will only keep the top 64 filters.\n",
        "kept_filters.sort(key=lambda x: x[1], reverse=True)\n",
        "kept_filters = kept_filters[:n * n]\n",
        "\n",
        "# build a black picture with enough space for\n",
        "# our 8 x 8 filters of size 128 x 128, with a 5px margin in between\n",
        "margin = 5\n",
        "width = n * img_width + (n - 1) * margin\n",
        "height = n * img_height + (n - 1) * margin\n",
        "stitched_filters = np.zeros((width, height, 3))\n",
        "\n",
        "# fill the picture with our saved filters\n",
        "for i in range(n):\n",
        "    for j in range(n):\n",
        "        img, loss = kept_filters[i * n + j]\n",
        "        stitched_filters[(img_width + margin) * i: (img_width + margin) * i + img_width,\n",
        "                         (img_height + margin) * j: (img_height + margin) * j + img_height, :] = img\n",
        "\n",
        "# save the result to disk\n",
        "imsave('stitched_filters_%dx%d.png' % (n, n), stitched_filters)"
      ],
      "execution_count": null,
      "outputs": []
    }
  ]
}